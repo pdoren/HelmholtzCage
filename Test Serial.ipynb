{
 "cells": [
  {
   "cell_type": "markdown",
   "metadata": {},
   "source": [
    "## Instalación\n",
    "\n",
    "Programa compatible con FT232R USB UART\n",
    "\n",
    "pip install pyftdi"
   ]
  },
  {
   "cell_type": "code",
   "execution_count": null,
   "metadata": {},
   "outputs": [],
   "source": [
    "import time\n",
    "import serial\n",
    "\n",
    "\n",
    "try:\n",
    "    # Configuración de USB serial\n",
    "    ser = serial.Serial(\n",
    "        port='/dev/tty.usbserial-A9YL9R77',\n",
    "        baudrate=9600,\n",
    "        parity=serial.PARITY_NONE,\n",
    "        stopbits=serial.STOPBITS_ONE,\n",
    "        bytesize=serial.EIGHTBITS\n",
    "    )\n",
    "\n",
    "    ser.isOpen()\n",
    "\n",
    "    print('Enter your commands below.\\r\\nInsert \"exit\" to leave the application.')\n",
    "\n",
    "    while 1 :\n",
    "        # get keyboard input\n",
    "        input1 = input('>> ')\n",
    "\n",
    "        if input1 == 'exit':\n",
    "            ser.close()\n",
    "            exit()\n",
    "        else:\n",
    "            # send the character to the device\n",
    "            # (note that I happend a \\r\\n carriage return and line feed to the characters - this is requested by my device)\n",
    "            cmd = input1 + '\\r\\n'\n",
    "\n",
    "            ser.write(cmd.encode())\n",
    "            out = ''\n",
    "            # let's wait one second before reading output (let's give device time to answer)\n",
    "            time.sleep(1)\n",
    "            while ser.inWaiting() > 0:\n",
    "                out += ser.read(1).decode(\"utf-8\")\n",
    "\n",
    "            if out != '':\n",
    "                print(\">>\" + out)\n",
    "\n",
    "except e:\n",
    "    print(\"Error open serial port: \" + str(e))\n",
    "    exit()"
   ]
  },
  {
   "cell_type": "code",
   "execution_count": null,
   "metadata": {
    "collapsed": true
   },
   "outputs": [],
   "source": []
  }
 ],
 "metadata": {
  "kernelspec": {
   "display_name": "Python 3",
   "language": "python",
   "name": "python3"
  },
  "language_info": {
   "codemirror_mode": {
    "name": "ipython",
    "version": 3
   },
   "file_extension": ".py",
   "mimetype": "text/x-python",
   "name": "python",
   "nbconvert_exporter": "python",
   "pygments_lexer": "ipython3",
   "version": "3.6.1"
  }
 },
 "nbformat": 4,
 "nbformat_minor": 2
}
